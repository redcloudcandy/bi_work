{
 "cells": [
  {
   "cell_type": "code",
   "execution_count": 21,
   "metadata": {},
   "outputs": [
    {
     "name": "stdout",
     "output_type": "stream",
     "text": [
      "准确率： 0.8869693071126631\n",
      "精确率： 0.9618423174074273\n",
      "召回率： 0.9109278770295719\n",
      "是否在新华社 False\n",
      "是否在copy_news True\n",
      "[(3134, array([[0.96849134]])), (63511, array([[0.94643198]])), (29441, array([[0.94283416]])), (3218, array([[0.87621892]])), (29615, array([[0.86936328]])), (29888, array([[0.86215862]])), (64046, array([[0.85278235]])), (29777, array([[0.84875422]])), (63974, array([[0.73415212]])), (63975, array([[0.73415212]]))]\n"
     ]
    }
   ],
   "source": [
    "# Step1。加载数据\n",
    "import os \n",
    "import pickle \n",
    "import pandas as pd\n",
    "import numpy as np\n",
    "if os.path.isfile('data.pkl'):\n",
    "    f = open('data.pkl', 'rb')\n",
    "    data = pickle.load(f)\n",
    "    f.close()\n",
    "else:\n",
    "    data = pd.read_csv('sqlResult.csv', encoding = 'gb18030')\n",
    "    f = open('data.pkl', 'wb')\n",
    "    pickle.dump(data,f)\n",
    "    f.close()\n",
    "stopWords = []\n",
    "with open('chinese_stopwords.txt') as stopWordsFile:\n",
    "    stopWords = [i.strip('\\n') for i in stopWordsFile.readlines()]\n",
    "#print(data.info)\n",
    "# Step2。数据清洗\n",
    " # 1）数据清洗，针对content字段为空的情况，进行dropna\n",
    "data = data.dropna(subset=['content'])\n",
    "# 2）分词，使用jieba进行分词\n",
    "\n",
    "# 3）将处理好的分词保存到 corpus.pkl，方便下次调用\n",
    "if os.path.isfile('coups.pkl'):\n",
    "    f = open('coups.pkl', 'rb')\n",
    "    coups = pickle.load(f)\n",
    "    f.close()\n",
    "else:\n",
    "    coups = list(map(split_text, [str(text) for text in data.content]))\n",
    "    f = open('coups.pkl', 'wb')\n",
    "    pickle.dump(coups,f)\n",
    "    f.close()\n",
    "# Step3。计算数据集的TFIDF\n",
    "from sklearn.feature_extraction.text import CountVectorizer, TfidfTransformer\n",
    "count_vectorizer = CountVectorizer(encoding = 'gb18030', min_df = 0.015)\n",
    "tfidf_transformer = TfidfTransformer()\n",
    "count_vector = count_vectorizer.fit_transform(coups)\n",
    "tfidf = tfidf_transformer.fit_transform(count_vector)\n",
    "# 4）数据集切分\n",
    "'''标记是否是新华社新闻'''\n",
    "lable = list(map(lambda source: 1 if '新华社' in str(source) else 0, data.source))\n",
    "from sklearn.model_selection import train_test_split\n",
    "x_train, x_test, y_train, y_test = train_test_split( tfidf.toarray(), lable, test_size = 0.25, random_state = 33)\n",
    "\n",
    "# Step4。预测文章风格是否和自己一致\n",
    "from sklearn.naive_bayes import MultinomialNB\n",
    "model = MultinomialNB()\n",
    "model.fit(x_train, y_train)\n",
    "\n",
    "'''预测test数据与查看预测性能'''\n",
    "from sklearn.metrics import accuracy_score, precision_score, recall_score\n",
    "y_predict = model.predict(x_test)\n",
    "print('准确率：',accuracy_score(y_test, y_predict))\n",
    "print('精确率：', precision_score(y_test, y_predict))\n",
    "print('召回率：', recall_score(y_test, y_predict))\n",
    "\n",
    "'''使用全量数据预测'''\n",
    "prediction = model.predict(tfidf.toarray())\n",
    "lables = np.array(lable)\n",
    "# Step5。找到可能Copy的文章，即预测label=1，但实际label=0\n",
    "'''预测结果与真实结果的拼接'''\n",
    "compare_news_index = pd.DataFrame({'perdiction' : prediction, 'lables' : lables})\n",
    "copy_news_index = compare_news_index[(compare_news_index['perdiction'] == 1) & (compare_news_index['lables'] == 0)].index\n",
    "\n",
    "xinhuashe_news_index = compare_news_index[(compare_news_index['lables'] == 1)].index\n",
    "\n",
    "from sklearn.preprocessing import Normalizer\n",
    "from sklearn.cluster import KMeans\n",
    "normalizer = Normalizer()\n",
    "scaled_array = normalizer.fit_transform(tfidf.toarray())\n",
    "\n",
    "#使用KMeans\n",
    "kmeans = KMeans(n_clusters = 25)\n",
    "k_labels = kmeans.fit_predict(scaled_array)\n",
    "\n",
    "# 统计聚类之后，包含新华社新闻的class\n",
    "from collections import defaultdict\n",
    "id_class = {index:class_ for index, class_ in enumerate(k_labels)}\n",
    "class_id = defaultdict(set)\n",
    "for index, class_ in id_class.items():\n",
    "    if index in xinhuashe_news_index.tolist():\n",
    "        class_id[class_].add(index)\n",
    "cpindex = 3352\n",
    "print('是否在新华社',cpindex in xinhuashe_news_index)\n",
    "print('是否在copy_news', cpindex in copy_news_index)\n",
    "similar_list = find_similar_text(cpindex)\n",
    "print(similar_list)"
   ]
  },
  {
   "cell_type": "code",
   "execution_count": 37,
   "metadata": {},
   "outputs": [],
   "source": [
    "import jieba\n",
    "def split_text(text):\n",
    "    text = text.replace(' ','').replace('\\n', '')\n",
    "    text2 = jieba.cut(text)\n",
    "    result = ' '.join([w for w in text2 if w not in stopWords])\n",
    "    return result"
   ]
  },
  {
   "cell_type": "code",
   "execution_count": 1,
   "metadata": {
    "scrolled": true
   },
   "outputs": [],
   "source": [
    "from sklearn.metrics.pairwise import cosine_similarity\n",
    "# 查找相似的文章\n",
    "def find_similar_text(cpindex, top=10):\n",
    "    # 只在新华社发布的文章中查找\n",
    "    dist_dict = {i:cosine_similarity(tfidf[cpindex], tfidf[i]) for i in class_id[id_class[cpindex]]}\n",
    "    # 从大到小排序\n",
    "    return sorted(dist_dict.items(), key=lambda x:x[1][0], reverse=True)[:top]"
   ]
  },
  {
   "cell_type": "code",
   "execution_count": 5,
   "metadata": {},
   "outputs": [
    {
     "ename": "SyntaxError",
     "evalue": "invalid syntax (<ipython-input-5-0a8cf7b99133>, line 1)",
     "output_type": "error",
     "traceback": [
      "\u001b[0;36m  File \u001b[0;32m\"<ipython-input-5-0a8cf7b99133>\"\u001b[0;36m, line \u001b[0;32m1\u001b[0m\n\u001b[0;31m    python -m pip install --upgrade pip\u001b[0m\n\u001b[0m                ^\u001b[0m\n\u001b[0;31mSyntaxError\u001b[0m\u001b[0;31m:\u001b[0m invalid syntax\n"
     ]
    }
   ],
   "source": [
    "def editdistance(str1, str2):"
   ]
  }
 ],
 "metadata": {
  "kernelspec": {
   "display_name": "Python 3",
   "language": "python",
   "name": "python3"
  },
  "language_info": {
   "codemirror_mode": {
    "name": "ipython",
    "version": 3
   },
   "file_extension": ".py",
   "mimetype": "text/x-python",
   "name": "python",
   "nbconvert_exporter": "python",
   "pygments_lexer": "ipython3",
   "version": "3.7.6"
  }
 },
 "nbformat": 4,
 "nbformat_minor": 4
}
